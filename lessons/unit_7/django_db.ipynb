{
 "cells": [
  {
   "cell_type": "code",
   "execution_count": 1,
   "metadata": {
    "metadata": {}
   },
   "outputs": [],
   "source": [
    "import pandas as pd\n",
    "import matplotlib.pyplot as plt\n",
    "import numpy as np\n",
    "import os\n",
    "import django\n",
    "from django.db.models import Q"
   ]
  },
  {
   "cell_type": "code",
   "execution_count": 2,
   "metadata": {
    "metadata": {}
   },
   "outputs": [],
   "source": [
    "os.chdir(\"..\")\n",
    "os.environ.setdefault('DJANGO_SETTINGS_MODULE', 'attendance.settings')\n",
    "os.environ[\"DJANGO_ALLOW_ASYNC_UNSAFE\"] = \"true\" \n",
    "django.setup()"
   ]
  },
  {
   "cell_type": "code",
   "execution_count": 3,
   "metadata": {
    "metadata": {}
   },
   "outputs": [],
   "source": [
    "from daily_attendance.models import DailyAttendance"
   ]
  },
  {
   "cell_type": "code",
   "execution_count": 4,
   "metadata": {
    "metadata": {}
   },
   "outputs": [],
   "source": [
    "df_attendance = pd.read_csv(\"notebooks/2018-2019_Daily_Attendance.csv\",\n",
    "                            parse_dates=[\"Date\"])"
   ]
  },
  {
   "cell_type": "code",
   "execution_count": 5,
   "metadata": {
    "metadata": {}
   },
   "outputs": [
    {
     "data": {
      "text/html": [
       "<div>\n",
       "<style scoped>\n",
       "    .dataframe tbody tr th:only-of-type {\n",
       "        vertical-align: middle;\n",
       "    }\n",
       "\n",
       "    .dataframe tbody tr th {\n",
       "        vertical-align: top;\n",
       "    }\n",
       "\n",
       "    .dataframe thead th {\n",
       "        text-align: right;\n",
       "    }\n",
       "</style>\n",
       "<table border=\"1\" class=\"dataframe\">\n",
       "  <thead>\n",
       "    <tr style=\"text-align: right;\">\n",
       "      <th></th>\n",
       "      <th>School DBN</th>\n",
       "      <th>Date</th>\n",
       "      <th>Enrolled</th>\n",
       "      <th>Absent</th>\n",
       "      <th>Present</th>\n",
       "      <th>Released</th>\n",
       "    </tr>\n",
       "  </thead>\n",
       "  <tbody>\n",
       "    <tr>\n",
       "      <th>0</th>\n",
       "      <td>01M015</td>\n",
       "      <td>2018-09-05</td>\n",
       "      <td>172</td>\n",
       "      <td>19</td>\n",
       "      <td>153</td>\n",
       "      <td>0</td>\n",
       "    </tr>\n",
       "    <tr>\n",
       "      <th>1</th>\n",
       "      <td>01M015</td>\n",
       "      <td>2018-09-06</td>\n",
       "      <td>171</td>\n",
       "      <td>17</td>\n",
       "      <td>154</td>\n",
       "      <td>0</td>\n",
       "    </tr>\n",
       "    <tr>\n",
       "      <th>2</th>\n",
       "      <td>01M015</td>\n",
       "      <td>2018-09-07</td>\n",
       "      <td>172</td>\n",
       "      <td>14</td>\n",
       "      <td>158</td>\n",
       "      <td>0</td>\n",
       "    </tr>\n",
       "    <tr>\n",
       "      <th>3</th>\n",
       "      <td>01M015</td>\n",
       "      <td>2018-09-12</td>\n",
       "      <td>173</td>\n",
       "      <td>7</td>\n",
       "      <td>166</td>\n",
       "      <td>0</td>\n",
       "    </tr>\n",
       "    <tr>\n",
       "      <th>4</th>\n",
       "      <td>01M015</td>\n",
       "      <td>2018-09-13</td>\n",
       "      <td>173</td>\n",
       "      <td>9</td>\n",
       "      <td>164</td>\n",
       "      <td>0</td>\n",
       "    </tr>\n",
       "  </tbody>\n",
       "</table>\n",
       "</div>"
      ],
      "text/plain": [
       "  School DBN       Date  Enrolled  Absent  Present  Released\n",
       "0     01M015 2018-09-05       172      19      153         0\n",
       "1     01M015 2018-09-06       171      17      154         0\n",
       "2     01M015 2018-09-07       172      14      158         0\n",
       "3     01M015 2018-09-12       173       7      166         0\n",
       "4     01M015 2018-09-13       173       9      164         0"
      ]
     },
     "execution_count": 5,
     "metadata": {},
     "output_type": "execute_result"
    }
   ],
   "source": [
    "df_attendance.head()"
   ]
  },
  {
   "cell_type": "code",
   "execution_count": 6,
   "metadata": {
    "metadata": {}
   },
   "outputs": [],
   "source": [
    "df_attendance=df_attendance.rename(\n",
    "    columns={\"School DBN\": \"dbn\", \"Date\": \"date\", \"Enrolled\":\"enrolled\",\n",
    "    \"Absent\": \"absent\", \"Present\": \"present\", \"Released\": \"released\"})"
   ]
  },
  {
   "cell_type": "code",
   "execution_count": 7,
   "metadata": {
    "metadata": {}
   },
   "outputs": [
    {
     "data": {
      "text/html": [
       "<div>\n",
       "<style scoped>\n",
       "    .dataframe tbody tr th:only-of-type {\n",
       "        vertical-align: middle;\n",
       "    }\n",
       "\n",
       "    .dataframe tbody tr th {\n",
       "        vertical-align: top;\n",
       "    }\n",
       "\n",
       "    .dataframe thead th {\n",
       "        text-align: right;\n",
       "    }\n",
       "</style>\n",
       "<table border=\"1\" class=\"dataframe\">\n",
       "  <thead>\n",
       "    <tr style=\"text-align: right;\">\n",
       "      <th></th>\n",
       "      <th>dbn</th>\n",
       "      <th>date</th>\n",
       "      <th>enrolled</th>\n",
       "      <th>absent</th>\n",
       "      <th>present</th>\n",
       "      <th>released</th>\n",
       "    </tr>\n",
       "  </thead>\n",
       "  <tbody>\n",
       "    <tr>\n",
       "      <th>0</th>\n",
       "      <td>01M015</td>\n",
       "      <td>2018-09-05</td>\n",
       "      <td>172</td>\n",
       "      <td>19</td>\n",
       "      <td>153</td>\n",
       "      <td>0</td>\n",
       "    </tr>\n",
       "    <tr>\n",
       "      <th>1</th>\n",
       "      <td>01M015</td>\n",
       "      <td>2018-09-06</td>\n",
       "      <td>171</td>\n",
       "      <td>17</td>\n",
       "      <td>154</td>\n",
       "      <td>0</td>\n",
       "    </tr>\n",
       "    <tr>\n",
       "      <th>2</th>\n",
       "      <td>01M015</td>\n",
       "      <td>2018-09-07</td>\n",
       "      <td>172</td>\n",
       "      <td>14</td>\n",
       "      <td>158</td>\n",
       "      <td>0</td>\n",
       "    </tr>\n",
       "    <tr>\n",
       "      <th>3</th>\n",
       "      <td>01M015</td>\n",
       "      <td>2018-09-12</td>\n",
       "      <td>173</td>\n",
       "      <td>7</td>\n",
       "      <td>166</td>\n",
       "      <td>0</td>\n",
       "    </tr>\n",
       "    <tr>\n",
       "      <th>4</th>\n",
       "      <td>01M015</td>\n",
       "      <td>2018-09-13</td>\n",
       "      <td>173</td>\n",
       "      <td>9</td>\n",
       "      <td>164</td>\n",
       "      <td>0</td>\n",
       "    </tr>\n",
       "  </tbody>\n",
       "</table>\n",
       "</div>"
      ],
      "text/plain": [
       "      dbn       date  enrolled  absent  present  released\n",
       "0  01M015 2018-09-05       172      19      153         0\n",
       "1  01M015 2018-09-06       171      17      154         0\n",
       "2  01M015 2018-09-07       172      14      158         0\n",
       "3  01M015 2018-09-12       173       7      166         0\n",
       "4  01M015 2018-09-13       173       9      164         0"
      ]
     },
     "execution_count": 7,
     "metadata": {},
     "output_type": "execute_result"
    }
   ],
   "source": [
    "df_attendance.head()"
   ]
  },
  {
   "cell_type": "markdown",
   "metadata": {},
   "source": [
    "## bulk_create\n",
    "\n",
    "The following line insert all records in the database, batch_size = 100."
   ]
  },
  {
   "cell_type": "code",
   "execution_count": null,
   "metadata": {
    "metadata": {}
   },
   "outputs": [],
   "source": [
    "new_daily_attendance = DailyAttendance.objects.bulk_create(\n",
    "    (DailyAttendance(**vals) for vals in df_attendance.to_dict('records')),\n",
    "    batch_size=100)"
   ]
  },
  {
   "cell_type": "markdown",
   "metadata": {},
   "source": [
    "## Sync data\n",
    "\n",
    "Once you have a dataframe with the data coming from any source, for example a csv file, the next step is to get what you have in the database.\n",
    "You must define some conditions to query the data in the db and save it in a dataframe.\n",
    "\n",
    "I am going to split the source dataframe because my database is on lisa, and it is a little bit slow. Also, I want to explain how to filter the data in the queries."
   ]
  },
  {
   "cell_type": "code",
   "execution_count": 8,
   "metadata": {
    "metadata": {}
   },
   "outputs": [
    {
     "name": "stderr",
     "output_type": "stream",
     "text": [
      "/home/simon/python/python_envs/env_3.12.1_vscodium/lib/python3.12/site-packages/numpy/core/fromnumeric.py:59: FutureWarning: 'DataFrame.swapaxes' is deprecated and will be removed in a future version. Please use 'DataFrame.transpose' instead.\n",
      "  return bound(*args, **kwds)\n"
     ]
    }
   ],
   "source": [
    "# Splitting the source df\n",
    "df_attendance_split = np.array_split(df_attendance, 10)"
   ]
  },
  {
   "cell_type": "code",
   "execution_count": 9,
   "metadata": {},
   "outputs": [
    {
     "data": {
      "text/html": [
       "<div>\n",
       "<style scoped>\n",
       "    .dataframe tbody tr th:only-of-type {\n",
       "        vertical-align: middle;\n",
       "    }\n",
       "\n",
       "    .dataframe tbody tr th {\n",
       "        vertical-align: top;\n",
       "    }\n",
       "\n",
       "    .dataframe thead th {\n",
       "        text-align: right;\n",
       "    }\n",
       "</style>\n",
       "<table border=\"1\" class=\"dataframe\">\n",
       "  <thead>\n",
       "    <tr style=\"text-align: right;\">\n",
       "      <th></th>\n",
       "      <th>dbn</th>\n",
       "      <th>date</th>\n",
       "      <th>enrolled</th>\n",
       "      <th>absent</th>\n",
       "      <th>present</th>\n",
       "      <th>released</th>\n",
       "    </tr>\n",
       "  </thead>\n",
       "  <tbody>\n",
       "    <tr>\n",
       "      <th>0</th>\n",
       "      <td>01M015</td>\n",
       "      <td>2018-09-05</td>\n",
       "      <td>172</td>\n",
       "      <td>19</td>\n",
       "      <td>153</td>\n",
       "      <td>0</td>\n",
       "    </tr>\n",
       "    <tr>\n",
       "      <th>1</th>\n",
       "      <td>01M015</td>\n",
       "      <td>2018-09-06</td>\n",
       "      <td>171</td>\n",
       "      <td>17</td>\n",
       "      <td>154</td>\n",
       "      <td>0</td>\n",
       "    </tr>\n",
       "    <tr>\n",
       "      <th>2</th>\n",
       "      <td>01M015</td>\n",
       "      <td>2018-09-07</td>\n",
       "      <td>172</td>\n",
       "      <td>14</td>\n",
       "      <td>158</td>\n",
       "      <td>0</td>\n",
       "    </tr>\n",
       "    <tr>\n",
       "      <th>3</th>\n",
       "      <td>01M015</td>\n",
       "      <td>2018-09-12</td>\n",
       "      <td>173</td>\n",
       "      <td>7</td>\n",
       "      <td>166</td>\n",
       "      <td>0</td>\n",
       "    </tr>\n",
       "    <tr>\n",
       "      <th>4</th>\n",
       "      <td>01M015</td>\n",
       "      <td>2018-09-13</td>\n",
       "      <td>173</td>\n",
       "      <td>9</td>\n",
       "      <td>164</td>\n",
       "      <td>0</td>\n",
       "    </tr>\n",
       "    <tr>\n",
       "      <th>...</th>\n",
       "      <td>...</td>\n",
       "      <td>...</td>\n",
       "      <td>...</td>\n",
       "      <td>...</td>\n",
       "      <td>...</td>\n",
       "      <td>...</td>\n",
       "    </tr>\n",
       "    <tr>\n",
       "      <th>27711</th>\n",
       "      <td>03M199</td>\n",
       "      <td>2018-09-13</td>\n",
       "      <td>815</td>\n",
       "      <td>17</td>\n",
       "      <td>798</td>\n",
       "      <td>0</td>\n",
       "    </tr>\n",
       "    <tr>\n",
       "      <th>27712</th>\n",
       "      <td>03M199</td>\n",
       "      <td>2018-09-14</td>\n",
       "      <td>815</td>\n",
       "      <td>18</td>\n",
       "      <td>797</td>\n",
       "      <td>0</td>\n",
       "    </tr>\n",
       "    <tr>\n",
       "      <th>27713</th>\n",
       "      <td>03M199</td>\n",
       "      <td>2018-09-17</td>\n",
       "      <td>817</td>\n",
       "      <td>20</td>\n",
       "      <td>797</td>\n",
       "      <td>0</td>\n",
       "    </tr>\n",
       "    <tr>\n",
       "      <th>27714</th>\n",
       "      <td>03M199</td>\n",
       "      <td>2018-09-18</td>\n",
       "      <td>817</td>\n",
       "      <td>22</td>\n",
       "      <td>795</td>\n",
       "      <td>0</td>\n",
       "    </tr>\n",
       "    <tr>\n",
       "      <th>27715</th>\n",
       "      <td>03M199</td>\n",
       "      <td>2018-09-20</td>\n",
       "      <td>817</td>\n",
       "      <td>19</td>\n",
       "      <td>797</td>\n",
       "      <td>1</td>\n",
       "    </tr>\n",
       "  </tbody>\n",
       "</table>\n",
       "<p>27716 rows × 6 columns</p>\n",
       "</div>"
      ],
      "text/plain": [
       "          dbn       date  enrolled  absent  present  released\n",
       "0      01M015 2018-09-05       172      19      153         0\n",
       "1      01M015 2018-09-06       171      17      154         0\n",
       "2      01M015 2018-09-07       172      14      158         0\n",
       "3      01M015 2018-09-12       173       7      166         0\n",
       "4      01M015 2018-09-13       173       9      164         0\n",
       "...       ...        ...       ...     ...      ...       ...\n",
       "27711  03M199 2018-09-13       815      17      798         0\n",
       "27712  03M199 2018-09-14       815      18      797         0\n",
       "27713  03M199 2018-09-17       817      20      797         0\n",
       "27714  03M199 2018-09-18       817      22      795         0\n",
       "27715  03M199 2018-09-20       817      19      797         1\n",
       "\n",
       "[27716 rows x 6 columns]"
      ]
     },
     "execution_count": 9,
     "metadata": {},
     "output_type": "execute_result"
    }
   ],
   "source": [
    "df_attendance_split[0]"
   ]
  },
  {
   "cell_type": "markdown",
   "metadata": {},
   "source": [
    "The next step is to get the data from the database. Notice that I need to filter the data. I splitted the source dataframe, and I am using the first set of that data df_attendance_split[0], so I need to look only for those records. We can use Q objects.\n",
    "\n",
    "\n",
    "## Q objects\n",
    "\n",
    "A Q object (django.db.models.Q) is an object used to encapsulate a collection of keyword arguments.\n",
    "\n",
    "For instance, complex queries to filter data using AND/OR statements could be done by using Q objects.\n",
    "\n",
    "Add the following line in your imports section:\n",
    "\n",
    "```from django.db.models import Q```"
   ]
  },
  {
   "cell_type": "code",
   "execution_count": 10,
   "metadata": {
    "metadata": {}
   },
   "outputs": [],
   "source": [
    "# dbn and date are my fields in the database, you must use the names you gave to those columns\n",
    "\n",
    "filter_list = Q()\n",
    "for index, row in df_attendance_split[0].iterrows():\n",
    "    filter_list.add(\n",
    "        (Q(dbn=row.dbn) &\n",
    "         Q(date=row.date)),\n",
    "         Q.OR\n",
    "    )"
   ]
  },
  {
   "cell_type": "code",
   "execution_count": 14,
   "metadata": {
    "metadata": {}
   },
   "outputs": [],
   "source": [
    "# df with data coming from the db\n",
    "\n",
    "df_db = pd.DataFrame.from_records(\n",
    "                    DailyAttendance.objects.filter(filter_list).values())"
   ]
  },
  {
   "cell_type": "code",
   "execution_count": 15,
   "metadata": {},
   "outputs": [
    {
     "data": {
      "text/html": [
       "<div>\n",
       "<style scoped>\n",
       "    .dataframe tbody tr th:only-of-type {\n",
       "        vertical-align: middle;\n",
       "    }\n",
       "\n",
       "    .dataframe tbody tr th {\n",
       "        vertical-align: top;\n",
       "    }\n",
       "\n",
       "    .dataframe thead th {\n",
       "        text-align: right;\n",
       "    }\n",
       "</style>\n",
       "<table border=\"1\" class=\"dataframe\">\n",
       "  <thead>\n",
       "    <tr style=\"text-align: right;\">\n",
       "      <th></th>\n",
       "      <th>id</th>\n",
       "      <th>dbn</th>\n",
       "      <th>date</th>\n",
       "      <th>enrolled</th>\n",
       "      <th>absent</th>\n",
       "      <th>present</th>\n",
       "      <th>released</th>\n",
       "    </tr>\n",
       "  </thead>\n",
       "  <tbody>\n",
       "    <tr>\n",
       "      <th>0</th>\n",
       "      <td>554327</td>\n",
       "      <td>01M015</td>\n",
       "      <td>2018-09-14</td>\n",
       "      <td>173</td>\n",
       "      <td>11</td>\n",
       "      <td>162</td>\n",
       "      <td>0</td>\n",
       "    </tr>\n",
       "    <tr>\n",
       "      <th>1</th>\n",
       "      <td>554328</td>\n",
       "      <td>01M015</td>\n",
       "      <td>2018-09-17</td>\n",
       "      <td>173</td>\n",
       "      <td>10</td>\n",
       "      <td>163</td>\n",
       "      <td>0</td>\n",
       "    </tr>\n",
       "    <tr>\n",
       "      <th>2</th>\n",
       "      <td>554329</td>\n",
       "      <td>01M015</td>\n",
       "      <td>2018-09-18</td>\n",
       "      <td>174</td>\n",
       "      <td>7</td>\n",
       "      <td>167</td>\n",
       "      <td>0</td>\n",
       "    </tr>\n",
       "    <tr>\n",
       "      <th>3</th>\n",
       "      <td>554330</td>\n",
       "      <td>01M015</td>\n",
       "      <td>2018-09-20</td>\n",
       "      <td>174</td>\n",
       "      <td>7</td>\n",
       "      <td>167</td>\n",
       "      <td>0</td>\n",
       "    </tr>\n",
       "    <tr>\n",
       "      <th>4</th>\n",
       "      <td>554331</td>\n",
       "      <td>01M015</td>\n",
       "      <td>2018-09-21</td>\n",
       "      <td>174</td>\n",
       "      <td>8</td>\n",
       "      <td>166</td>\n",
       "      <td>0</td>\n",
       "    </tr>\n",
       "  </tbody>\n",
       "</table>\n",
       "</div>"
      ],
      "text/plain": [
       "       id     dbn        date  enrolled  absent  present  released\n",
       "0  554327  01M015  2018-09-14       173      11      162         0\n",
       "1  554328  01M015  2018-09-17       173      10      163         0\n",
       "2  554329  01M015  2018-09-18       174       7      167         0\n",
       "3  554330  01M015  2018-09-20       174       7      167         0\n",
       "4  554331  01M015  2018-09-21       174       8      166         0"
      ]
     },
     "execution_count": 15,
     "metadata": {},
     "output_type": "execute_result"
    }
   ],
   "source": [
    "df_db.head()"
   ]
  },
  {
   "cell_type": "code",
   "execution_count": 16,
   "metadata": {},
   "outputs": [
    {
     "data": {
      "text/plain": [
       "id           int64\n",
       "dbn         object\n",
       "date        object\n",
       "enrolled     int64\n",
       "absent       int64\n",
       "present      int64\n",
       "released     int64\n",
       "dtype: object"
      ]
     },
     "execution_count": 16,
     "metadata": {},
     "output_type": "execute_result"
    }
   ],
   "source": [
    "df_db.dtypes"
   ]
  },
  {
   "cell_type": "code",
   "execution_count": 17,
   "metadata": {
    "metadata": {}
   },
   "outputs": [],
   "source": [
    "df_db[\"date\"] = pd.to_datetime(df_db[\"date\"])"
   ]
  },
  {
   "cell_type": "code",
   "execution_count": 18,
   "metadata": {
    "metadata": {}
   },
   "outputs": [
    {
     "data": {
      "text/plain": [
       "id                   int64\n",
       "dbn                 object\n",
       "date        datetime64[ns]\n",
       "enrolled             int64\n",
       "absent               int64\n",
       "present              int64\n",
       "released             int64\n",
       "dtype: object"
      ]
     },
     "execution_count": 18,
     "metadata": {},
     "output_type": "execute_result"
    }
   ],
   "source": [
    "df_db.dtypes"
   ]
  },
  {
   "cell_type": "markdown",
   "metadata": {},
   "source": [
    "Now, we have to merge the the two dfs (source and database) to compare the data and find out if there are new records to insert into the database or records to update.\n",
    "\n",
    "Please work on Part 2 of this exercise https://github.com/novillo-cs/softdev_material/blob/main/classwork/unit_7/06_django_db/attendance.md"
   ]
  },
  {
   "cell_type": "code",
   "execution_count": 23,
   "metadata": {},
   "outputs": [],
   "source": [
    "# Why do you think we use suffixes?\n",
    "\n",
    "df_join = df_attendance.merge(\n",
    "                    df_db, how=\"left\",\n",
    "                    on=[\"dbn\", \"date\"],\n",
    "                    suffixes=('', \"_db\"))"
   ]
  },
  {
   "cell_type": "code",
   "execution_count": 24,
   "metadata": {},
   "outputs": [],
   "source": [
    "# What are we doing here?\n",
    "\n",
    "df_join[\"equal\"] = ((df_join[\"enrolled\"] == df_join[\"enrolled_db\"]) &\n",
    "                     (df_join[\"absent\"] == df_join[\"absent_db\"]) &\n",
    "                     (df_join[\"present\"] == df_join[\"present_db\"]) &\n",
    "                     (df_join[\"released\"] == df_join[\"released_db\"]))\n",
    "df_join[\"exist\"] = (df_join[\"id\"].isnull() == False)"
   ]
  },
  {
   "cell_type": "code",
   "execution_count": 25,
   "metadata": {},
   "outputs": [
    {
     "data": {
      "text/html": [
       "<div>\n",
       "<style scoped>\n",
       "    .dataframe tbody tr th:only-of-type {\n",
       "        vertical-align: middle;\n",
       "    }\n",
       "\n",
       "    .dataframe tbody tr th {\n",
       "        vertical-align: top;\n",
       "    }\n",
       "\n",
       "    .dataframe thead th {\n",
       "        text-align: right;\n",
       "    }\n",
       "</style>\n",
       "<table border=\"1\" class=\"dataframe\">\n",
       "  <thead>\n",
       "    <tr style=\"text-align: right;\">\n",
       "      <th></th>\n",
       "      <th>dbn</th>\n",
       "      <th>date</th>\n",
       "      <th>enrolled</th>\n",
       "      <th>absent</th>\n",
       "      <th>present</th>\n",
       "      <th>released</th>\n",
       "      <th>id</th>\n",
       "      <th>enrolled_db</th>\n",
       "      <th>absent_db</th>\n",
       "      <th>present_db</th>\n",
       "      <th>released_db</th>\n",
       "      <th>equal</th>\n",
       "      <th>exist</th>\n",
       "    </tr>\n",
       "  </thead>\n",
       "  <tbody>\n",
       "    <tr>\n",
       "      <th>0</th>\n",
       "      <td>01M015</td>\n",
       "      <td>2018-09-05</td>\n",
       "      <td>172</td>\n",
       "      <td>19</td>\n",
       "      <td>153</td>\n",
       "      <td>0</td>\n",
       "      <td>831475.0</td>\n",
       "      <td>172.0</td>\n",
       "      <td>19.0</td>\n",
       "      <td>153.0</td>\n",
       "      <td>0.0</td>\n",
       "      <td>True</td>\n",
       "      <td>True</td>\n",
       "    </tr>\n",
       "    <tr>\n",
       "      <th>1</th>\n",
       "      <td>01M015</td>\n",
       "      <td>2018-09-06</td>\n",
       "      <td>171</td>\n",
       "      <td>17</td>\n",
       "      <td>154</td>\n",
       "      <td>0</td>\n",
       "      <td>554323.0</td>\n",
       "      <td>171.0</td>\n",
       "      <td>17.0</td>\n",
       "      <td>154.0</td>\n",
       "      <td>0.0</td>\n",
       "      <td>True</td>\n",
       "      <td>True</td>\n",
       "    </tr>\n",
       "    <tr>\n",
       "      <th>2</th>\n",
       "      <td>01M015</td>\n",
       "      <td>2018-09-07</td>\n",
       "      <td>172</td>\n",
       "      <td>14</td>\n",
       "      <td>158</td>\n",
       "      <td>0</td>\n",
       "      <td>554324.0</td>\n",
       "      <td>172.0</td>\n",
       "      <td>14.0</td>\n",
       "      <td>158.0</td>\n",
       "      <td>0.0</td>\n",
       "      <td>True</td>\n",
       "      <td>True</td>\n",
       "    </tr>\n",
       "    <tr>\n",
       "      <th>3</th>\n",
       "      <td>01M015</td>\n",
       "      <td>2018-09-12</td>\n",
       "      <td>173</td>\n",
       "      <td>7</td>\n",
       "      <td>166</td>\n",
       "      <td>0</td>\n",
       "      <td>554325.0</td>\n",
       "      <td>173.0</td>\n",
       "      <td>7.0</td>\n",
       "      <td>166.0</td>\n",
       "      <td>0.0</td>\n",
       "      <td>True</td>\n",
       "      <td>True</td>\n",
       "    </tr>\n",
       "    <tr>\n",
       "      <th>4</th>\n",
       "      <td>01M015</td>\n",
       "      <td>2018-09-13</td>\n",
       "      <td>173</td>\n",
       "      <td>9</td>\n",
       "      <td>164</td>\n",
       "      <td>0</td>\n",
       "      <td>554326.0</td>\n",
       "      <td>173.0</td>\n",
       "      <td>9.0</td>\n",
       "      <td>164.0</td>\n",
       "      <td>0.0</td>\n",
       "      <td>True</td>\n",
       "      <td>True</td>\n",
       "    </tr>\n",
       "  </tbody>\n",
       "</table>\n",
       "</div>"
      ],
      "text/plain": [
       "      dbn       date  enrolled  absent  present  released        id  \\\n",
       "0  01M015 2018-09-05       172      19      153         0  831475.0   \n",
       "1  01M015 2018-09-06       171      17      154         0  554323.0   \n",
       "2  01M015 2018-09-07       172      14      158         0  554324.0   \n",
       "3  01M015 2018-09-12       173       7      166         0  554325.0   \n",
       "4  01M015 2018-09-13       173       9      164         0  554326.0   \n",
       "\n",
       "   enrolled_db  absent_db  present_db  released_db  equal  exist  \n",
       "0        172.0       19.0       153.0          0.0   True   True  \n",
       "1        171.0       17.0       154.0          0.0   True   True  \n",
       "2        172.0       14.0       158.0          0.0   True   True  \n",
       "3        173.0        7.0       166.0          0.0   True   True  \n",
       "4        173.0        9.0       164.0          0.0   True   True  "
      ]
     },
     "execution_count": 25,
     "metadata": {},
     "output_type": "execute_result"
    }
   ],
   "source": [
    "df_join.head()"
   ]
  },
  {
   "cell_type": "code",
   "execution_count": null,
   "metadata": {},
   "outputs": [],
   "source": []
  }
 ],
 "metadata": {
  "kernelspec": {
   "display_name": "env_3.12.1_vscodium",
   "language": "python",
   "name": "python3"
  },
  "language_info": {
   "codemirror_mode": {
    "name": "ipython",
    "version": 3
   },
   "file_extension": ".py",
   "mimetype": "text/x-python",
   "name": "python",
   "nbconvert_exporter": "python",
   "pygments_lexer": "ipython3",
   "version": "3.12.1"
  }
 },
 "nbformat": 4,
 "nbformat_minor": 2
}
