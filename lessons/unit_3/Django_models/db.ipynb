{
 "cells": [
  {
   "cell_type": "code",
   "execution_count": 1,
   "metadata": {},
   "outputs": [],
   "source": [
    "import os\n",
    "os.chdir(\"..\")"
   ]
  },
  {
   "cell_type": "code",
   "execution_count": 2,
   "metadata": {},
   "outputs": [],
   "source": [
    "import django\n",
    "# In case that we need it later\n",
    "#from django.conf import settings\n",
    "os.environ.setdefault('DJANGO_SETTINGS_MODULE', 'movie_theater.settings')\n",
    "# We need to enable the following because jupyter is running an async loop\n",
    "os.environ[\"DJANGO_ALLOW_ASYNC_UNSAFE\"] = \"true\"\n",
    "django.setup()"
   ]
  },
  {
   "cell_type": "code",
   "execution_count": 3,
   "metadata": {},
   "outputs": [],
   "source": [
    "from movies.models import Actor"
   ]
  },
  {
   "cell_type": "code",
   "execution_count": 4,
   "metadata": {},
   "outputs": [
    {
     "ename": "IntegrityError",
     "evalue": "duplicate key value violates unique constraint \"movies_actor_name_key\"\nDETAIL:  Key (name)=(Angelina Jolie) already exists.",
     "output_type": "error",
     "traceback": [
      "\u001b[0;31m---------------------------------------------------------------------------\u001b[0m",
      "\u001b[0;31mUniqueViolation\u001b[0m                           Traceback (most recent call last)",
      "File \u001b[0;32m~/python/python_envs/env_3.12.0_movie_theater/lib/python3.12/site-packages/django/db/backends/utils.py:105\u001b[0m, in \u001b[0;36mCursorWrapper._execute\u001b[0;34m(self, sql, params, *ignored_wrapper_args)\u001b[0m\n\u001b[1;32m    104\u001b[0m \u001b[39melse\u001b[39;00m:\n\u001b[0;32m--> 105\u001b[0m     \u001b[39mreturn\u001b[39;00m \u001b[39mself\u001b[39;49m\u001b[39m.\u001b[39;49mcursor\u001b[39m.\u001b[39;49mexecute(sql, params)\n",
      "File \u001b[0;32m~/python/python_envs/env_3.12.0_movie_theater/lib/python3.12/site-packages/psycopg/cursor.py:737\u001b[0m, in \u001b[0;36mCursor.execute\u001b[0;34m(self, query, params, prepare, binary)\u001b[0m\n\u001b[1;32m    736\u001b[0m \u001b[39mexcept\u001b[39;00m e\u001b[39m.\u001b[39m_NO_TRACEBACK \u001b[39mas\u001b[39;00m ex:\n\u001b[0;32m--> 737\u001b[0m     \u001b[39mraise\u001b[39;00m ex\u001b[39m.\u001b[39mwith_traceback(\u001b[39mNone\u001b[39;00m)\n\u001b[1;32m    738\u001b[0m \u001b[39mreturn\u001b[39;00m \u001b[39mself\u001b[39m\n",
      "\u001b[0;31mUniqueViolation\u001b[0m: duplicate key value violates unique constraint \"movies_actor_name_key\"\nDETAIL:  Key (name)=(Angelina Jolie) already exists.",
      "\nThe above exception was the direct cause of the following exception:\n",
      "\u001b[0;31mIntegrityError\u001b[0m                            Traceback (most recent call last)",
      "\u001b[1;32m/media/gd_ms_jn/stuy/soft_dev/code/14_my_database/movie_theater_project/movie_theater/notebooks/db.ipynb Cell 4\u001b[0m line \u001b[0;36m3\n\u001b[1;32m      <a href='vscode-notebook-cell:/media/gd_ms_jn/stuy/soft_dev/code/14_my_database/movie_theater_project/movie_theater/notebooks/db.ipynb#X10sZmlsZQ%3D%3D?line=0'>1</a>\u001b[0m \u001b[39m# Insert an actor in the database\u001b[39;00m\n\u001b[1;32m      <a href='vscode-notebook-cell:/media/gd_ms_jn/stuy/soft_dev/code/14_my_database/movie_theater_project/movie_theater/notebooks/db.ipynb#X10sZmlsZQ%3D%3D?line=1'>2</a>\u001b[0m actor \u001b[39m=\u001b[39m Actor(name\u001b[39m=\u001b[39m\u001b[39m\"\u001b[39m\u001b[39mAngelina Jolie\u001b[39m\u001b[39m\"\u001b[39m)\n\u001b[0;32m----> <a href='vscode-notebook-cell:/media/gd_ms_jn/stuy/soft_dev/code/14_my_database/movie_theater_project/movie_theater/notebooks/db.ipynb#X10sZmlsZQ%3D%3D?line=2'>3</a>\u001b[0m actor\u001b[39m.\u001b[39;49msave()\n\u001b[1;32m      <a href='vscode-notebook-cell:/media/gd_ms_jn/stuy/soft_dev/code/14_my_database/movie_theater_project/movie_theater/notebooks/db.ipynb#X10sZmlsZQ%3D%3D?line=3'>4</a>\u001b[0m \u001b[39mprint\u001b[39m(actor\u001b[39m.\u001b[39mid)\n",
      "File \u001b[0;32m~/python/python_envs/env_3.12.0_movie_theater/lib/python3.12/site-packages/django/db/models/base.py:822\u001b[0m, in \u001b[0;36mModel.save\u001b[0;34m(self, force_insert, force_update, using, update_fields)\u001b[0m\n\u001b[1;32m    819\u001b[0m     \u001b[39mif\u001b[39;00m loaded_fields:\n\u001b[1;32m    820\u001b[0m         update_fields \u001b[39m=\u001b[39m \u001b[39mfrozenset\u001b[39m(loaded_fields)\n\u001b[0;32m--> 822\u001b[0m \u001b[39mself\u001b[39;49m\u001b[39m.\u001b[39;49msave_base(\n\u001b[1;32m    823\u001b[0m     using\u001b[39m=\u001b[39;49musing,\n\u001b[1;32m    824\u001b[0m     force_insert\u001b[39m=\u001b[39;49mforce_insert,\n\u001b[1;32m    825\u001b[0m     force_update\u001b[39m=\u001b[39;49mforce_update,\n\u001b[1;32m    826\u001b[0m     update_fields\u001b[39m=\u001b[39;49mupdate_fields,\n\u001b[1;32m    827\u001b[0m )\n",
      "File \u001b[0;32m~/python/python_envs/env_3.12.0_movie_theater/lib/python3.12/site-packages/django/db/models/base.py:909\u001b[0m, in \u001b[0;36mModel.save_base\u001b[0;34m(self, raw, force_insert, force_update, using, update_fields)\u001b[0m\n\u001b[1;32m    905\u001b[0m         force_insert \u001b[39m=\u001b[39m \u001b[39mself\u001b[39m\u001b[39m.\u001b[39m_validate_force_insert(force_insert)\n\u001b[1;32m    906\u001b[0m         parent_inserted \u001b[39m=\u001b[39m \u001b[39mself\u001b[39m\u001b[39m.\u001b[39m_save_parents(\n\u001b[1;32m    907\u001b[0m             \u001b[39mcls\u001b[39m, using, update_fields, force_insert\n\u001b[1;32m    908\u001b[0m         )\n\u001b[0;32m--> 909\u001b[0m     updated \u001b[39m=\u001b[39m \u001b[39mself\u001b[39;49m\u001b[39m.\u001b[39;49m_save_table(\n\u001b[1;32m    910\u001b[0m         raw,\n\u001b[1;32m    911\u001b[0m         \u001b[39mcls\u001b[39;49m,\n\u001b[1;32m    912\u001b[0m         force_insert \u001b[39mor\u001b[39;49;00m parent_inserted,\n\u001b[1;32m    913\u001b[0m         force_update,\n\u001b[1;32m    914\u001b[0m         using,\n\u001b[1;32m    915\u001b[0m         update_fields,\n\u001b[1;32m    916\u001b[0m     )\n\u001b[1;32m    917\u001b[0m \u001b[39m# Store the database on which the object was saved\u001b[39;00m\n\u001b[1;32m    918\u001b[0m \u001b[39mself\u001b[39m\u001b[39m.\u001b[39m_state\u001b[39m.\u001b[39mdb \u001b[39m=\u001b[39m using\n",
      "File \u001b[0;32m~/python/python_envs/env_3.12.0_movie_theater/lib/python3.12/site-packages/django/db/models/base.py:1067\u001b[0m, in \u001b[0;36mModel._save_table\u001b[0;34m(self, raw, cls, force_insert, force_update, using, update_fields)\u001b[0m\n\u001b[1;32m   1061\u001b[0m fields \u001b[39m=\u001b[39m [\n\u001b[1;32m   1062\u001b[0m     f\n\u001b[1;32m   1063\u001b[0m     \u001b[39mfor\u001b[39;00m f \u001b[39min\u001b[39;00m meta\u001b[39m.\u001b[39mlocal_concrete_fields\n\u001b[1;32m   1064\u001b[0m     \u001b[39mif\u001b[39;00m \u001b[39mnot\u001b[39;00m f\u001b[39m.\u001b[39mgenerated \u001b[39mand\u001b[39;00m (pk_set \u001b[39mor\u001b[39;00m f \u001b[39mis\u001b[39;00m \u001b[39mnot\u001b[39;00m meta\u001b[39m.\u001b[39mauto_field)\n\u001b[1;32m   1065\u001b[0m ]\n\u001b[1;32m   1066\u001b[0m returning_fields \u001b[39m=\u001b[39m meta\u001b[39m.\u001b[39mdb_returning_fields\n\u001b[0;32m-> 1067\u001b[0m results \u001b[39m=\u001b[39m \u001b[39mself\u001b[39;49m\u001b[39m.\u001b[39;49m_do_insert(\n\u001b[1;32m   1068\u001b[0m     \u001b[39mcls\u001b[39;49m\u001b[39m.\u001b[39;49m_base_manager, using, fields, returning_fields, raw\n\u001b[1;32m   1069\u001b[0m )\n\u001b[1;32m   1070\u001b[0m \u001b[39mif\u001b[39;00m results:\n\u001b[1;32m   1071\u001b[0m     \u001b[39mfor\u001b[39;00m value, field \u001b[39min\u001b[39;00m \u001b[39mzip\u001b[39m(results[\u001b[39m0\u001b[39m], returning_fields):\n",
      "File \u001b[0;32m~/python/python_envs/env_3.12.0_movie_theater/lib/python3.12/site-packages/django/db/models/base.py:1108\u001b[0m, in \u001b[0;36mModel._do_insert\u001b[0;34m(self, manager, using, fields, returning_fields, raw)\u001b[0m\n\u001b[1;32m   1103\u001b[0m \u001b[39mdef\u001b[39;00m \u001b[39m_do_insert\u001b[39m(\u001b[39mself\u001b[39m, manager, using, fields, returning_fields, raw):\n\u001b[1;32m   1104\u001b[0m \u001b[39m    \u001b[39m\u001b[39m\"\"\"\u001b[39;00m\n\u001b[1;32m   1105\u001b[0m \u001b[39m    Do an INSERT. If returning_fields is defined then this method should\u001b[39;00m\n\u001b[1;32m   1106\u001b[0m \u001b[39m    return the newly created data for the model.\u001b[39;00m\n\u001b[1;32m   1107\u001b[0m \u001b[39m    \"\"\"\u001b[39;00m\n\u001b[0;32m-> 1108\u001b[0m     \u001b[39mreturn\u001b[39;00m manager\u001b[39m.\u001b[39;49m_insert(\n\u001b[1;32m   1109\u001b[0m         [\u001b[39mself\u001b[39;49m],\n\u001b[1;32m   1110\u001b[0m         fields\u001b[39m=\u001b[39;49mfields,\n\u001b[1;32m   1111\u001b[0m         returning_fields\u001b[39m=\u001b[39;49mreturning_fields,\n\u001b[1;32m   1112\u001b[0m         using\u001b[39m=\u001b[39;49musing,\n\u001b[1;32m   1113\u001b[0m         raw\u001b[39m=\u001b[39;49mraw,\n\u001b[1;32m   1114\u001b[0m     )\n",
      "File \u001b[0;32m~/python/python_envs/env_3.12.0_movie_theater/lib/python3.12/site-packages/django/db/models/manager.py:87\u001b[0m, in \u001b[0;36mBaseManager._get_queryset_methods.<locals>.create_method.<locals>.manager_method\u001b[0;34m(self, *args, **kwargs)\u001b[0m\n\u001b[1;32m     85\u001b[0m \u001b[39m@wraps\u001b[39m(method)\n\u001b[1;32m     86\u001b[0m \u001b[39mdef\u001b[39;00m \u001b[39mmanager_method\u001b[39m(\u001b[39mself\u001b[39m, \u001b[39m*\u001b[39margs, \u001b[39m*\u001b[39m\u001b[39m*\u001b[39mkwargs):\n\u001b[0;32m---> 87\u001b[0m     \u001b[39mreturn\u001b[39;00m \u001b[39mgetattr\u001b[39;49m(\u001b[39mself\u001b[39;49m\u001b[39m.\u001b[39;49mget_queryset(), name)(\u001b[39m*\u001b[39;49margs, \u001b[39m*\u001b[39;49m\u001b[39m*\u001b[39;49mkwargs)\n",
      "File \u001b[0;32m~/python/python_envs/env_3.12.0_movie_theater/lib/python3.12/site-packages/django/db/models/query.py:1845\u001b[0m, in \u001b[0;36mQuerySet._insert\u001b[0;34m(self, objs, fields, returning_fields, raw, using, on_conflict, update_fields, unique_fields)\u001b[0m\n\u001b[1;32m   1838\u001b[0m query \u001b[39m=\u001b[39m sql\u001b[39m.\u001b[39mInsertQuery(\n\u001b[1;32m   1839\u001b[0m     \u001b[39mself\u001b[39m\u001b[39m.\u001b[39mmodel,\n\u001b[1;32m   1840\u001b[0m     on_conflict\u001b[39m=\u001b[39mon_conflict,\n\u001b[1;32m   1841\u001b[0m     update_fields\u001b[39m=\u001b[39mupdate_fields,\n\u001b[1;32m   1842\u001b[0m     unique_fields\u001b[39m=\u001b[39munique_fields,\n\u001b[1;32m   1843\u001b[0m )\n\u001b[1;32m   1844\u001b[0m query\u001b[39m.\u001b[39minsert_values(fields, objs, raw\u001b[39m=\u001b[39mraw)\n\u001b[0;32m-> 1845\u001b[0m \u001b[39mreturn\u001b[39;00m query\u001b[39m.\u001b[39;49mget_compiler(using\u001b[39m=\u001b[39;49musing)\u001b[39m.\u001b[39;49mexecute_sql(returning_fields)\n",
      "File \u001b[0;32m~/python/python_envs/env_3.12.0_movie_theater/lib/python3.12/site-packages/django/db/models/sql/compiler.py:1823\u001b[0m, in \u001b[0;36mSQLInsertCompiler.execute_sql\u001b[0;34m(self, returning_fields)\u001b[0m\n\u001b[1;32m   1821\u001b[0m \u001b[39mwith\u001b[39;00m \u001b[39mself\u001b[39m\u001b[39m.\u001b[39mconnection\u001b[39m.\u001b[39mcursor() \u001b[39mas\u001b[39;00m cursor:\n\u001b[1;32m   1822\u001b[0m     \u001b[39mfor\u001b[39;00m sql, params \u001b[39min\u001b[39;00m \u001b[39mself\u001b[39m\u001b[39m.\u001b[39mas_sql():\n\u001b[0;32m-> 1823\u001b[0m         cursor\u001b[39m.\u001b[39;49mexecute(sql, params)\n\u001b[1;32m   1824\u001b[0m     \u001b[39mif\u001b[39;00m \u001b[39mnot\u001b[39;00m \u001b[39mself\u001b[39m\u001b[39m.\u001b[39mreturning_fields:\n\u001b[1;32m   1825\u001b[0m         \u001b[39mreturn\u001b[39;00m []\n",
      "File \u001b[0;32m~/python/python_envs/env_3.12.0_movie_theater/lib/python3.12/site-packages/django/db/backends/utils.py:122\u001b[0m, in \u001b[0;36mCursorDebugWrapper.execute\u001b[0;34m(self, sql, params)\u001b[0m\n\u001b[1;32m    120\u001b[0m \u001b[39mdef\u001b[39;00m \u001b[39mexecute\u001b[39m(\u001b[39mself\u001b[39m, sql, params\u001b[39m=\u001b[39m\u001b[39mNone\u001b[39;00m):\n\u001b[1;32m    121\u001b[0m     \u001b[39mwith\u001b[39;00m \u001b[39mself\u001b[39m\u001b[39m.\u001b[39mdebug_sql(sql, params, use_last_executed_query\u001b[39m=\u001b[39m\u001b[39mTrue\u001b[39;00m):\n\u001b[0;32m--> 122\u001b[0m         \u001b[39mreturn\u001b[39;00m \u001b[39msuper\u001b[39;49m()\u001b[39m.\u001b[39;49mexecute(sql, params)\n",
      "File \u001b[0;32m~/python/python_envs/env_3.12.0_movie_theater/lib/python3.12/site-packages/django/db/backends/utils.py:79\u001b[0m, in \u001b[0;36mCursorWrapper.execute\u001b[0;34m(self, sql, params)\u001b[0m\n\u001b[1;32m     78\u001b[0m \u001b[39mdef\u001b[39;00m \u001b[39mexecute\u001b[39m(\u001b[39mself\u001b[39m, sql, params\u001b[39m=\u001b[39m\u001b[39mNone\u001b[39;00m):\n\u001b[0;32m---> 79\u001b[0m     \u001b[39mreturn\u001b[39;00m \u001b[39mself\u001b[39;49m\u001b[39m.\u001b[39;49m_execute_with_wrappers(\n\u001b[1;32m     80\u001b[0m         sql, params, many\u001b[39m=\u001b[39;49m\u001b[39mFalse\u001b[39;49;00m, executor\u001b[39m=\u001b[39;49m\u001b[39mself\u001b[39;49m\u001b[39m.\u001b[39;49m_execute\n\u001b[1;32m     81\u001b[0m     )\n",
      "File \u001b[0;32m~/python/python_envs/env_3.12.0_movie_theater/lib/python3.12/site-packages/django/db/backends/utils.py:92\u001b[0m, in \u001b[0;36mCursorWrapper._execute_with_wrappers\u001b[0;34m(self, sql, params, many, executor)\u001b[0m\n\u001b[1;32m     90\u001b[0m \u001b[39mfor\u001b[39;00m wrapper \u001b[39min\u001b[39;00m \u001b[39mreversed\u001b[39m(\u001b[39mself\u001b[39m\u001b[39m.\u001b[39mdb\u001b[39m.\u001b[39mexecute_wrappers):\n\u001b[1;32m     91\u001b[0m     executor \u001b[39m=\u001b[39m functools\u001b[39m.\u001b[39mpartial(wrapper, executor)\n\u001b[0;32m---> 92\u001b[0m \u001b[39mreturn\u001b[39;00m executor(sql, params, many, context)\n",
      "File \u001b[0;32m~/python/python_envs/env_3.12.0_movie_theater/lib/python3.12/site-packages/django/db/backends/utils.py:100\u001b[0m, in \u001b[0;36mCursorWrapper._execute\u001b[0;34m(self, sql, params, *ignored_wrapper_args)\u001b[0m\n\u001b[1;32m     98\u001b[0m     warnings\u001b[39m.\u001b[39mwarn(\u001b[39mself\u001b[39m\u001b[39m.\u001b[39mAPPS_NOT_READY_WARNING_MSG, category\u001b[39m=\u001b[39m\u001b[39mRuntimeWarning\u001b[39;00m)\n\u001b[1;32m     99\u001b[0m \u001b[39mself\u001b[39m\u001b[39m.\u001b[39mdb\u001b[39m.\u001b[39mvalidate_no_broken_transaction()\n\u001b[0;32m--> 100\u001b[0m \u001b[39mwith\u001b[39;49;00m \u001b[39mself\u001b[39;49m\u001b[39m.\u001b[39;49mdb\u001b[39m.\u001b[39;49mwrap_database_errors:\n\u001b[1;32m    101\u001b[0m     \u001b[39mif\u001b[39;49;00m params \u001b[39mis\u001b[39;49;00m \u001b[39mNone\u001b[39;49;00m:\n\u001b[1;32m    102\u001b[0m         \u001b[39m# params default might be backend specific.\u001b[39;49;00m\n\u001b[1;32m    103\u001b[0m         \u001b[39mreturn\u001b[39;49;00m \u001b[39mself\u001b[39;49m\u001b[39m.\u001b[39;49mcursor\u001b[39m.\u001b[39;49mexecute(sql)\n",
      "File \u001b[0;32m~/python/python_envs/env_3.12.0_movie_theater/lib/python3.12/site-packages/django/db/utils.py:91\u001b[0m, in \u001b[0;36mDatabaseErrorWrapper.__exit__\u001b[0;34m(self, exc_type, exc_value, traceback)\u001b[0m\n\u001b[1;32m     89\u001b[0m \u001b[39mif\u001b[39;00m dj_exc_type \u001b[39mnot\u001b[39;00m \u001b[39min\u001b[39;00m (DataError, IntegrityError):\n\u001b[1;32m     90\u001b[0m     \u001b[39mself\u001b[39m\u001b[39m.\u001b[39mwrapper\u001b[39m.\u001b[39merrors_occurred \u001b[39m=\u001b[39m \u001b[39mTrue\u001b[39;00m\n\u001b[0;32m---> 91\u001b[0m \u001b[39mraise\u001b[39;00m dj_exc_value\u001b[39m.\u001b[39mwith_traceback(traceback) \u001b[39mfrom\u001b[39;00m \u001b[39mexc_value\u001b[39;00m\n",
      "File \u001b[0;32m~/python/python_envs/env_3.12.0_movie_theater/lib/python3.12/site-packages/django/db/backends/utils.py:105\u001b[0m, in \u001b[0;36mCursorWrapper._execute\u001b[0;34m(self, sql, params, *ignored_wrapper_args)\u001b[0m\n\u001b[1;32m    103\u001b[0m     \u001b[39mreturn\u001b[39;00m \u001b[39mself\u001b[39m\u001b[39m.\u001b[39mcursor\u001b[39m.\u001b[39mexecute(sql)\n\u001b[1;32m    104\u001b[0m \u001b[39melse\u001b[39;00m:\n\u001b[0;32m--> 105\u001b[0m     \u001b[39mreturn\u001b[39;00m \u001b[39mself\u001b[39;49m\u001b[39m.\u001b[39;49mcursor\u001b[39m.\u001b[39;49mexecute(sql, params)\n",
      "File \u001b[0;32m~/python/python_envs/env_3.12.0_movie_theater/lib/python3.12/site-packages/psycopg/cursor.py:737\u001b[0m, in \u001b[0;36mCursor.execute\u001b[0;34m(self, query, params, prepare, binary)\u001b[0m\n\u001b[1;32m    733\u001b[0m         \u001b[39mself\u001b[39m\u001b[39m.\u001b[39m_conn\u001b[39m.\u001b[39mwait(\n\u001b[1;32m    734\u001b[0m             \u001b[39mself\u001b[39m\u001b[39m.\u001b[39m_execute_gen(query, params, prepare\u001b[39m=\u001b[39mprepare, binary\u001b[39m=\u001b[39mbinary)\n\u001b[1;32m    735\u001b[0m         )\n\u001b[1;32m    736\u001b[0m \u001b[39mexcept\u001b[39;00m e\u001b[39m.\u001b[39m_NO_TRACEBACK \u001b[39mas\u001b[39;00m ex:\n\u001b[0;32m--> 737\u001b[0m     \u001b[39mraise\u001b[39;00m ex\u001b[39m.\u001b[39mwith_traceback(\u001b[39mNone\u001b[39;00m)\n\u001b[1;32m    738\u001b[0m \u001b[39mreturn\u001b[39;00m \u001b[39mself\u001b[39m\n",
      "\u001b[0;31mIntegrityError\u001b[0m: duplicate key value violates unique constraint \"movies_actor_name_key\"\nDETAIL:  Key (name)=(Angelina Jolie) already exists."
     ]
    }
   ],
   "source": [
    "# Insert an actor in the database\n",
    "actor = Actor(name=\"Angelina Jolie\")\n",
    "actor.save()\n",
    "print(actor.id)"
   ]
  },
  {
   "cell_type": "code",
   "execution_count": 5,
   "metadata": {},
   "outputs": [
    {
     "ename": "DoesNotExist",
     "evalue": "Actor matching query does not exist.",
     "output_type": "error",
     "traceback": [
      "\u001b[0;31m---------------------------------------------------------------------------\u001b[0m",
      "\u001b[0;31mDoesNotExist\u001b[0m                              Traceback (most recent call last)",
      "\u001b[1;32m/media/gd_ms_jn/stuy/soft_dev/code/14_my_database/movie_theater_project/movie_theater/notebooks/db.ipynb Cell 5\u001b[0m line \u001b[0;36m4\n\u001b[1;32m      <a href='vscode-notebook-cell:/media/gd_ms_jn/stuy/soft_dev/code/14_my_database/movie_theater_project/movie_theater/notebooks/db.ipynb#X11sZmlsZQ%3D%3D?line=0'>1</a>\u001b[0m \u001b[39m# Search the object we just saved it\u001b[39;00m\n\u001b[1;32m      <a href='vscode-notebook-cell:/media/gd_ms_jn/stuy/soft_dev/code/14_my_database/movie_theater_project/movie_theater/notebooks/db.ipynb#X11sZmlsZQ%3D%3D?line=1'>2</a>\u001b[0m \u001b[39m# you can use Actor.objects.get(...) but if the object is not there \u001b[39;00m\n\u001b[1;32m      <a href='vscode-notebook-cell:/media/gd_ms_jn/stuy/soft_dev/code/14_my_database/movie_theater_project/movie_theater/notebooks/db.ipynb#X11sZmlsZQ%3D%3D?line=2'>3</a>\u001b[0m \u001b[39m# it is going to throw an error, so you will need to have a try...except\u001b[39;00m\n\u001b[0;32m----> <a href='vscode-notebook-cell:/media/gd_ms_jn/stuy/soft_dev/code/14_my_database/movie_theater_project/movie_theater/notebooks/db.ipynb#X11sZmlsZQ%3D%3D?line=3'>4</a>\u001b[0m Actor\u001b[39m.\u001b[39;49mobjects\u001b[39m.\u001b[39;49mget(name\u001b[39m=\u001b[39;49m\u001b[39m\"\u001b[39;49m\u001b[39mHello Hello\u001b[39;49m\u001b[39m\"\u001b[39;49m)\n",
      "File \u001b[0;32m~/python/python_envs/env_3.12.0_movie_theater/lib/python3.12/site-packages/django/db/models/manager.py:87\u001b[0m, in \u001b[0;36mBaseManager._get_queryset_methods.<locals>.create_method.<locals>.manager_method\u001b[0;34m(self, *args, **kwargs)\u001b[0m\n\u001b[1;32m     85\u001b[0m \u001b[39m@wraps\u001b[39m(method)\n\u001b[1;32m     86\u001b[0m \u001b[39mdef\u001b[39;00m \u001b[39mmanager_method\u001b[39m(\u001b[39mself\u001b[39m, \u001b[39m*\u001b[39margs, \u001b[39m*\u001b[39m\u001b[39m*\u001b[39mkwargs):\n\u001b[0;32m---> 87\u001b[0m     \u001b[39mreturn\u001b[39;00m \u001b[39mgetattr\u001b[39;49m(\u001b[39mself\u001b[39;49m\u001b[39m.\u001b[39;49mget_queryset(), name)(\u001b[39m*\u001b[39;49margs, \u001b[39m*\u001b[39;49m\u001b[39m*\u001b[39;49mkwargs)\n",
      "File \u001b[0;32m~/python/python_envs/env_3.12.0_movie_theater/lib/python3.12/site-packages/django/db/models/query.py:647\u001b[0m, in \u001b[0;36mQuerySet.get\u001b[0;34m(self, *args, **kwargs)\u001b[0m\n\u001b[1;32m    645\u001b[0m     \u001b[39mreturn\u001b[39;00m clone\u001b[39m.\u001b[39m_result_cache[\u001b[39m0\u001b[39m]\n\u001b[1;32m    646\u001b[0m \u001b[39mif\u001b[39;00m \u001b[39mnot\u001b[39;00m num:\n\u001b[0;32m--> 647\u001b[0m     \u001b[39mraise\u001b[39;00m \u001b[39mself\u001b[39m\u001b[39m.\u001b[39mmodel\u001b[39m.\u001b[39mDoesNotExist(\n\u001b[1;32m    648\u001b[0m         \u001b[39m\"\u001b[39m\u001b[39m%s\u001b[39;00m\u001b[39m matching query does not exist.\u001b[39m\u001b[39m\"\u001b[39m \u001b[39m%\u001b[39m \u001b[39mself\u001b[39m\u001b[39m.\u001b[39mmodel\u001b[39m.\u001b[39m_meta\u001b[39m.\u001b[39mobject_name\n\u001b[1;32m    649\u001b[0m     )\n\u001b[1;32m    650\u001b[0m \u001b[39mraise\u001b[39;00m \u001b[39mself\u001b[39m\u001b[39m.\u001b[39mmodel\u001b[39m.\u001b[39mMultipleObjectsReturned(\n\u001b[1;32m    651\u001b[0m     \u001b[39m\"\u001b[39m\u001b[39mget() returned more than one \u001b[39m\u001b[39m%s\u001b[39;00m\u001b[39m -- it returned \u001b[39m\u001b[39m%s\u001b[39;00m\u001b[39m!\u001b[39m\u001b[39m\"\u001b[39m\n\u001b[1;32m    652\u001b[0m     \u001b[39m%\u001b[39m (\n\u001b[0;32m   (...)\u001b[0m\n\u001b[1;32m    655\u001b[0m     )\n\u001b[1;32m    656\u001b[0m )\n",
      "\u001b[0;31mDoesNotExist\u001b[0m: Actor matching query does not exist."
     ]
    }
   ],
   "source": [
    "# Search the object we just saved it\n",
    "# you can use Actor.objects.get(...) but if the object is not there \n",
    "# it is going to throw an error, so you will need to have a try...except\n",
    "Actor.objects.get(name=\"Hello Hello\")"
   ]
  },
  {
   "cell_type": "code",
   "execution_count": 6,
   "metadata": {},
   "outputs": [
    {
     "name": "stdout",
     "output_type": "stream",
     "text": [
      "<QuerySet [<Actor: Angelina Jolie>]> 20\n"
     ]
    }
   ],
   "source": [
    "# You can also use a filter, but it is going to return a queryset\n",
    "# which is a list of objects\n",
    "angelina = Actor.objects.filter(name=\"Angelina Jolie\")\n",
    "print(angelina, angelina[0].id)"
   ]
  },
  {
   "cell_type": "code",
   "execution_count": 19,
   "metadata": {},
   "outputs": [
    {
     "ename": "DoesNotExist",
     "evalue": "Actor matching query does not exist.",
     "output_type": "error",
     "traceback": [
      "\u001b[0;31m---------------------------------------------------------------------------\u001b[0m",
      "\u001b[0;31mDoesNotExist\u001b[0m                              Traceback (most recent call last)",
      "\u001b[1;32m/media/gd_ms_jn/stuy/soft_dev/code/14_my_database/movie_theater_project/movie_theater/notebooks/db.ipynb Cell 7\u001b[0m line \u001b[0;36m2\n\u001b[1;32m      <a href='vscode-notebook-cell:/media/gd_ms_jn/stuy/soft_dev/code/14_my_database/movie_theater_project/movie_theater/notebooks/db.ipynb#X13sZmlsZQ%3D%3D?line=0'>1</a>\u001b[0m \u001b[39m# Getting the record as an object\u001b[39;00m\n\u001b[0;32m----> <a href='vscode-notebook-cell:/media/gd_ms_jn/stuy/soft_dev/code/14_my_database/movie_theater_project/movie_theater/notebooks/db.ipynb#X13sZmlsZQ%3D%3D?line=1'>2</a>\u001b[0m angelina \u001b[39m=\u001b[39m Actor\u001b[39m.\u001b[39;49mobjects\u001b[39m.\u001b[39;49mget(name\u001b[39m=\u001b[39;49m\u001b[39m\"\u001b[39;49m\u001b[39mAngelina Jolie\u001b[39;49m\u001b[39m\"\u001b[39;49m)\n\u001b[1;32m      <a href='vscode-notebook-cell:/media/gd_ms_jn/stuy/soft_dev/code/14_my_database/movie_theater_project/movie_theater/notebooks/db.ipynb#X13sZmlsZQ%3D%3D?line=2'>3</a>\u001b[0m \u001b[39mprint\u001b[39m(angelina, angelina\u001b[39m.\u001b[39mid)\n",
      "File \u001b[0;32m~/python/python_envs/env_3.12.0_movie_theater/lib/python3.12/site-packages/django/db/models/manager.py:87\u001b[0m, in \u001b[0;36mBaseManager._get_queryset_methods.<locals>.create_method.<locals>.manager_method\u001b[0;34m(self, *args, **kwargs)\u001b[0m\n\u001b[1;32m     85\u001b[0m \u001b[39m@wraps\u001b[39m(method)\n\u001b[1;32m     86\u001b[0m \u001b[39mdef\u001b[39;00m \u001b[39mmanager_method\u001b[39m(\u001b[39mself\u001b[39m, \u001b[39m*\u001b[39margs, \u001b[39m*\u001b[39m\u001b[39m*\u001b[39mkwargs):\n\u001b[0;32m---> 87\u001b[0m     \u001b[39mreturn\u001b[39;00m \u001b[39mgetattr\u001b[39;49m(\u001b[39mself\u001b[39;49m\u001b[39m.\u001b[39;49mget_queryset(), name)(\u001b[39m*\u001b[39;49margs, \u001b[39m*\u001b[39;49m\u001b[39m*\u001b[39;49mkwargs)\n",
      "File \u001b[0;32m~/python/python_envs/env_3.12.0_movie_theater/lib/python3.12/site-packages/django/db/models/query.py:647\u001b[0m, in \u001b[0;36mQuerySet.get\u001b[0;34m(self, *args, **kwargs)\u001b[0m\n\u001b[1;32m    645\u001b[0m     \u001b[39mreturn\u001b[39;00m clone\u001b[39m.\u001b[39m_result_cache[\u001b[39m0\u001b[39m]\n\u001b[1;32m    646\u001b[0m \u001b[39mif\u001b[39;00m \u001b[39mnot\u001b[39;00m num:\n\u001b[0;32m--> 647\u001b[0m     \u001b[39mraise\u001b[39;00m \u001b[39mself\u001b[39m\u001b[39m.\u001b[39mmodel\u001b[39m.\u001b[39mDoesNotExist(\n\u001b[1;32m    648\u001b[0m         \u001b[39m\"\u001b[39m\u001b[39m%s\u001b[39;00m\u001b[39m matching query does not exist.\u001b[39m\u001b[39m\"\u001b[39m \u001b[39m%\u001b[39m \u001b[39mself\u001b[39m\u001b[39m.\u001b[39mmodel\u001b[39m.\u001b[39m_meta\u001b[39m.\u001b[39mobject_name\n\u001b[1;32m    649\u001b[0m     )\n\u001b[1;32m    650\u001b[0m \u001b[39mraise\u001b[39;00m \u001b[39mself\u001b[39m\u001b[39m.\u001b[39mmodel\u001b[39m.\u001b[39mMultipleObjectsReturned(\n\u001b[1;32m    651\u001b[0m     \u001b[39m\"\u001b[39m\u001b[39mget() returned more than one \u001b[39m\u001b[39m%s\u001b[39;00m\u001b[39m -- it returned \u001b[39m\u001b[39m%s\u001b[39;00m\u001b[39m!\u001b[39m\u001b[39m\"\u001b[39m\n\u001b[1;32m    652\u001b[0m     \u001b[39m%\u001b[39m (\n\u001b[0;32m   (...)\u001b[0m\n\u001b[1;32m    655\u001b[0m     )\n\u001b[1;32m    656\u001b[0m )\n",
      "\u001b[0;31mDoesNotExist\u001b[0m: Actor matching query does not exist."
     ]
    }
   ],
   "source": [
    "# Getting the record as an object\n",
    "angelina = Actor.objects.get(name=\"Angelina Jolie\")\n",
    "print(angelina, angelina.id)"
   ]
  },
  {
   "cell_type": "code",
   "execution_count": 9,
   "metadata": {},
   "outputs": [
    {
     "name": "stderr",
     "output_type": "stream",
     "text": [
      "/home/simon/python/python_envs/env_3.12.0_movie_theater/lib/python3.12/site-packages/django/db/models/fields/__init__.py:1595: RuntimeWarning: DateTimeField Movie.release_date received a naive datetime (2005-06-10 00:00:00) while time zone support is active.\n",
      "  warnings.warn(\n"
     ]
    }
   ],
   "source": [
    "# Let's create a movie\n",
    "from movies.models import Movie\n",
    "import datetime\n",
    "import time\n",
    "mr_ms_smith = Movie(\n",
    "    name=\"Mr. & Mrs. Smith\",\n",
    "    running_time=datetime.time(hour=2, minute=0),\n",
    "    director=\"Doug Liman\",\n",
    "    release_date=datetime.date(2005, 6, 10)\n",
    ")\n",
    "mr_ms_smith.save()"
   ]
  },
  {
   "cell_type": "code",
   "execution_count": 10,
   "metadata": {},
   "outputs": [],
   "source": [
    "# Let's link the actor with the movie\n",
    "mr_ms_smith.actors.add(angelina)"
   ]
  },
  {
   "cell_type": "code",
   "execution_count": 11,
   "metadata": {},
   "outputs": [],
   "source": [
    "# Let modify mr_ms_smith object\n",
    "mr_ms_smith.name = \"Mr. and Mrs. Smith\"\n",
    "mr_ms_smith.save()"
   ]
  },
  {
   "cell_type": "code",
   "execution_count": 12,
   "metadata": {},
   "outputs": [],
   "source": [
    "# Let's create another actor\n",
    "brad = Actor(name=\"Brad Pitt\")\n",
    "try:\n",
    "    brad.save()\n",
    "except:\n",
    "    brad = Actor.objects.get(name=\"Brad Pitt\")"
   ]
  },
  {
   "cell_type": "code",
   "execution_count": 13,
   "metadata": {},
   "outputs": [],
   "source": [
    "# Let's add it to the movie\n",
    "mr_ms_smith.actors.add(brad)"
   ]
  },
  {
   "cell_type": "code",
   "execution_count": 15,
   "metadata": {},
   "outputs": [],
   "source": [
    "# Let's remove brad from the movie\n",
    "mr_ms_smith.actors.remove(brad)"
   ]
  },
  {
   "cell_type": "code",
   "execution_count": 17,
   "metadata": {},
   "outputs": [
    {
     "data": {
      "text/plain": [
       "(2, {'movies.Movie_actors': 1, 'movies.Actor': 1})"
      ]
     },
     "execution_count": 17,
     "metadata": {},
     "output_type": "execute_result"
    }
   ],
   "source": [
    "angelina.delete()"
   ]
  },
  {
   "cell_type": "code",
   "execution_count": 20,
   "metadata": {},
   "outputs": [
    {
     "data": {
      "text/plain": [
       "(1, {'movies.Movie': 1})"
      ]
     },
     "execution_count": 20,
     "metadata": {},
     "output_type": "execute_result"
    }
   ],
   "source": [
    "# Let's delete the movie\n",
    "mr_ms_smith.delete()"
   ]
  },
  {
   "cell_type": "markdown",
   "metadata": {},
   "source": [
    "Now, you know how to create, update, delete objects using\n",
    "Django ORM (Object Relational Mapper). You are going to need it to save data from\n",
    "APIs and for more advance interfaces if the basic class views\n",
    "are limited for your purposes\n",
    "\n",
    "**Documentation:** https://docs.djangoproject.com/en/5.0/topics/db/queries/\n",
    "\n",
    "Search for documentation to learn how to bulk insert and update data.\n",
    "\n",
    "You may save the data from the API in a csv file, read that data with pandas to save or update records in your database."
   ]
  },
  {
   "cell_type": "markdown",
   "metadata": {},
   "source": []
  }
 ],
 "metadata": {
  "kernelspec": {
   "display_name": "env_3.12.0_movie_theater",
   "language": "python",
   "name": "python3"
  },
  "language_info": {
   "codemirror_mode": {
    "name": "ipython",
    "version": 3
   },
   "file_extension": ".py",
   "mimetype": "text/x-python",
   "name": "python",
   "nbconvert_exporter": "python",
   "pygments_lexer": "ipython3",
   "version": "3.12.0"
  }
 },
 "nbformat": 4,
 "nbformat_minor": 2
}
