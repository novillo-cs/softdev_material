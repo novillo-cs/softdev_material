{
 "cells": [
  {
   "cell_type": "code",
   "execution_count": null,
   "metadata": {},
   "outputs": [],
   "source": [
    "import os\n",
    "os.chdir(\"..\")"
   ]
  },
  {
   "cell_type": "code",
   "execution_count": null,
   "metadata": {},
   "outputs": [],
   "source": [
    "import django\n",
    "# In case that we need it later\n",
    "#from django.conf import settings\n",
    "os.environ.setdefault('DJANGO_SETTINGS_MODULE', 'movie_theater.settings')\n",
    "# We need to enable the following because jupyter is running an async loop\n",
    "os.environ[\"DJANGO_ALLOW_ASYNC_UNSAFE\"] = \"true\"\n",
    "django.setup()"
   ]
  },
  {
   "cell_type": "code",
   "execution_count": null,
   "metadata": {},
   "outputs": [],
   "source": [
    "from movies.models import Actor"
   ]
  },
  {
   "cell_type": "code",
   "execution_count": null,
   "metadata": {},
   "outputs": [],
   "source": [
    "# Insert an actor in the database\n",
    "actor = Actor(name=\"Angelina Jolie\")\n",
    "actor.save()\n",
    "print(actor.id)"
   ]
  },
  {
   "cell_type": "code",
   "execution_count": null,
   "metadata": {},
   "outputs": [],
   "source": [
    "# Search the object we just saved it\n",
    "# you can use Actor.objects.get(...) but if the object is not there \n",
    "# it is going to throw an error, so you will need to have a try...except\n",
    "Actor.objects.get(name=\"Hello Hello\")"
   ]
  },
  {
   "cell_type": "code",
   "execution_count": null,
   "metadata": {},
   "outputs": [],
   "source": [
    "# You can also use a filter, but it is going to return a queryset\n",
    "# which is a list of objects\n",
    "angelina = Actor.objects.filter(name=\"Angelina Jolie\")\n",
    "print(angelina, angelina[0].id)"
   ]
  },
  {
   "cell_type": "code",
   "execution_count": null,
   "metadata": {},
   "outputs": [],
   "source": [
    "# Getting the record as an object\n",
    "angelina = Actor.objects.get(name=\"Angelina Jolie\")\n",
    "print(angelina, angelina.id)"
   ]
  },
  {
   "cell_type": "code",
   "execution_count": null,
   "metadata": {},
   "outputs": [],
   "source": [
    "# Let's create a movie\n",
    "from movies.models import Movie\n",
    "import datetime\n",
    "import time\n",
    "mr_ms_smith = Movie(\n",
    "    name=\"Mr. & Mrs. Smith\",\n",
    "    running_time=datetime.time(hour=2, minute=0),\n",
    "    director=\"Doug Liman\",\n",
    "    release_date=datetime.date(2005, 6, 10)\n",
    ")\n",
    "mr_ms_smith.save()"
   ]
  },
  {
   "cell_type": "code",
   "execution_count": null,
   "metadata": {},
   "outputs": [],
   "source": [
    "# Let's link the actor with the movie\n",
    "mr_ms_smith.actors.add(angelina)"
   ]
  },
  {
   "cell_type": "code",
   "execution_count": null,
   "metadata": {},
   "outputs": [],
   "source": [
    "# Let modify mr_ms_smith object\n",
    "mr_ms_smith.name = \"Mr. and Mrs. Smith\"\n",
    "mr_ms_smith.save()"
   ]
  },
  {
   "cell_type": "code",
   "execution_count": null,
   "metadata": {},
   "outputs": [],
   "source": [
    "# Let's create another actor\n",
    "brad = Actor(name=\"Brad Pitt\")\n",
    "try:\n",
    "    brad.save()\n",
    "except:\n",
    "    brad = Actor.objects.get(name=\"Brad Pitt\")"
   ]
  },
  {
   "cell_type": "code",
   "execution_count": null,
   "metadata": {},
   "outputs": [],
   "source": [
    "# Let's add it to the movie\n",
    "mr_ms_smith.actors.add(brad)"
   ]
  },
  {
   "cell_type": "code",
   "execution_count": null,
   "metadata": {},
   "outputs": [],
   "source": [
    "# Let's remove brad from the movie\n",
    "mr_ms_smith.actors.remove(brad)"
   ]
  },
  {
   "cell_type": "code",
   "execution_count": null,
   "metadata": {},
   "outputs": [],
   "source": [
    "angelina.delete()"
   ]
  },
  {
   "cell_type": "code",
   "execution_count": null,
   "metadata": {},
   "outputs": [],
   "source": [
    "# Let's delete the movie\n",
    "mr_ms_smith.delete()"
   ]
  },
  {
   "cell_type": "markdown",
   "metadata": {},
   "source": [
    "Now, you know how to create, update, delete objects using\n",
    "Django ORM (Object Relational Mapper). You are going to need it to save data from\n",
    "APIs and for more advance interfaces if the basic class views\n",
    "are limited for your purposes\n",
    "\n",
    "**Documentation:** https://docs.djangoproject.com/en/5.0/topics/db/queries/\n",
    "\n",
    "Search for documentation to learn how to bulk insert and update data.\n",
    "\n",
    "You may save the data from the API in a csv file, read that data with pandas to save or update records in your database."
   ]
  },
  {
   "cell_type": "markdown",
   "metadata": {},
   "source": []
  }
 ],
 "metadata": {
  "kernelspec": {
   "display_name": "env_3.12.0_movie_theater",
   "language": "python",
   "name": "python3"
  },
  "language_info": {
   "codemirror_mode": {
    "name": "ipython",
    "version": 3
   },
   "file_extension": ".py",
   "mimetype": "text/x-python",
   "name": "python",
   "nbconvert_exporter": "python",
   "pygments_lexer": "ipython3",
   "version": "3.12.0"
  }
 },
 "nbformat": 4,
 "nbformat_minor": 2
}
